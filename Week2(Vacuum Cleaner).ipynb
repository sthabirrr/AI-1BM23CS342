{
  "nbformat": 4,
  "nbformat_minor": 0,
  "metadata": {
    "colab": {
      "provenance": [],
      "authorship_tag": "ABX9TyNbLCVjTizAlG/Po1NSrpg2",
      "include_colab_link": true
    },
    "kernelspec": {
      "name": "python3",
      "display_name": "Python 3"
    },
    "language_info": {
      "name": "python"
    }
  },
  "cells": [
    {
      "cell_type": "markdown",
      "metadata": {
        "id": "view-in-github",
        "colab_type": "text"
      },
      "source": [
        "<a href=\"https://colab.research.google.com/github/Shashank-Karanam/AI-LaB/blob/main/Week2(Vacuum%20Cleaner).ipynb\" target=\"_parent\"><img src=\"https://colab.research.google.com/assets/colab-badge.svg\" alt=\"Open In Colab\"/></a>"
      ]
    },
    {
      "cell_type": "code",
      "execution_count": null,
      "metadata": {
        "colab": {
          "base_uri": "https://localhost:8080/"
        },
        "id": "ESMvW_aDmO6P",
        "outputId": "788dc882-49fc-495c-8f9c-544d20e50555"
      },
      "outputs": [
        {
          "output_type": "stream",
          "name": "stdout",
          "text": [
            "Initial State: {'A': 'Clean', 'B': 'Dirty'} | Vacuum at: A\n",
            "Vacuum at A | Status: Clean -> Action: Right\n",
            "World State: {'A': 'Clean', 'B': 'Dirty'}\n",
            "Vacuum at B | Status: Dirty -> Action: Suck\n",
            "World State: {'A': 'Clean', 'B': 'Clean'}\n",
            "Vacuum at B | Status: Clean -> Action: Left\n",
            "World State: {'A': 'Clean', 'B': 'Clean'}\n",
            "Vacuum at A | Status: Clean -> Action: Right\n",
            "World State: {'A': 'Clean', 'B': 'Clean'}\n",
            "Vacuum at B | Status: Clean -> Action: Left\n",
            "World State: {'A': 'Clean', 'B': 'Clean'}\n",
            "\n",
            "Final State: {'A': 'Clean', 'B': 'Clean'}\n",
            "\n",
            "Submitted by: Shashank Ravindra Karanam, USN: 1BM23CS312\n"
          ]
        }
      ],
      "source": [
        "import random\n",
        "\n",
        "\n",
        "NAME = \"Shashank Ravindra Karanam\"\n",
        "USN = \"1BM23CS312\"\n",
        "\n",
        "\n",
        "def reflex_vacuum_agent(location, status):\n",
        "    if status == \"Dirty\":\n",
        "        return \"Suck\"\n",
        "    elif location == \"A\":\n",
        "        return \"Right\"\n",
        "    elif location == \"B\":\n",
        "        return \"Left\"\n",
        "\n",
        "\n",
        "def vacuum_world():\n",
        "    locations = {\"A\": random.choice([\"Clean\", \"Dirty\"]),\n",
        "                 \"B\": random.choice([\"Clean\", \"Dirty\"])}\n",
        "    location = random.choice([\"A\", \"B\"])\n",
        "\n",
        "    print(\"Initial State:\", locations, \"| Vacuum at:\", location)\n",
        "\n",
        "    steps = 5\n",
        "    for _ in range(steps):\n",
        "        status = locations[location]\n",
        "        action = reflex_vacuum_agent(location, status)\n",
        "        print(f\"Vacuum at {location} | Status: {status} -> Action: {action}\")\n",
        "\n",
        "        if action == \"Suck\":\n",
        "            locations[location] = \"Clean\"\n",
        "        elif action == \"Right\":\n",
        "            location = \"B\"\n",
        "        elif action == \"Left\":\n",
        "            location = \"A\"\n",
        "\n",
        "        print(\"World State:\", locations)\n",
        "\n",
        "    print(\"\\nFinal State:\", locations)\n",
        "    print(f\"\\nSubmitted by: {NAME}, USN: {USN}\")\n",
        "\n",
        "vacuum_world()\n"
      ]
    }
  ]
}