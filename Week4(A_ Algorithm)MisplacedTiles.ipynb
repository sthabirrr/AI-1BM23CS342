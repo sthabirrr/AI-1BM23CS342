{
  "nbformat": 4,
  "nbformat_minor": 0,
  "metadata": {
    "colab": {
      "provenance": [],
      "authorship_tag": "ABX9TyNoW1T1d0ymRt3VaZsMx7u+",
      "include_colab_link": true
    },
    "kernelspec": {
      "name": "python3",
      "display_name": "Python 3"
    },
    "language_info": {
      "name": "python"
    }
  },
  "cells": [
    {
      "cell_type": "markdown",
      "metadata": {
        "id": "view-in-github",
        "colab_type": "text"
      },
      "source": [
        "<a href=\"https://colab.research.google.com/github/Shashank-Karanam/AI-LaB/blob/main/Week4(A*%20Algorithm)MisplacedTiles.ipynb\" target=\"_parent\"><img src=\"https://colab.research.google.com/assets/colab-badge.svg\" alt=\"Open In Colab\"/></a>"
      ]
    },
    {
      "cell_type": "code",
      "execution_count": null,
      "metadata": {
        "colab": {
          "base_uri": "https://localhost:8080/"
        },
        "id": "fMQeJlS0rWGl",
        "outputId": "dfef712b-1856-4f6c-e75e-5501923fc3df"
      },
      "outputs": [
        {
          "output_type": "stream",
          "name": "stdout",
          "text": [
            "Name: Shashank Ravindra\n",
            "USN : 1BM23CS312\n",
            "\n",
            "\n",
            "Solution Steps:\n",
            "\n",
            "[2, 8, 3]\n",
            "[1, 6, 4]\n",
            "[7, 0, 5]\n",
            "\n",
            "[2, 8, 3]\n",
            "[1, 0, 4]\n",
            "[7, 6, 5]\n",
            "\n",
            "[2, 0, 3]\n",
            "[1, 8, 4]\n",
            "[7, 6, 5]\n",
            "\n",
            "[0, 2, 3]\n",
            "[1, 8, 4]\n",
            "[7, 6, 5]\n",
            "\n",
            "[1, 2, 3]\n",
            "[0, 8, 4]\n",
            "[7, 6, 5]\n",
            "\n",
            "[1, 2, 3]\n",
            "[8, 0, 4]\n",
            "[7, 6, 5]\n",
            "\n"
          ]
        }
      ],
      "source": [
        "import copy\n",
        "import heapq\n",
        "\n",
        "\n",
        "NAME = \"Shashank Ravindra\"\n",
        "USN = \"1BM23CS312\"\n",
        "\n",
        "print(f\"Name: {NAME}\")\n",
        "print(f\"USN : {USN}\\n\")\n",
        "\n",
        "\n",
        "goal_state = [[1, 2, 3],\n",
        "              [8, 0, 4],\n",
        "              [7, 6, 5]]\n",
        "\n",
        "def heuristic_misplaced(current_state):\n",
        "    misplaced = 0\n",
        "    for i in range(3):\n",
        "        for j in range(3):\n",
        "            if current_state[i][j] != 0 and current_state[i][j] != goal_state[i][j]:\n",
        "                misplaced += 1\n",
        "    return misplaced\n",
        "\n",
        "def is_goal(state):\n",
        "    return state == goal_state\n",
        "\n",
        "def find_blank(state):\n",
        "    for i in range(3):\n",
        "        for j in range(3):\n",
        "            if state[i][j] == 0:\n",
        "                return i, j\n",
        "\n",
        "def get_neighbors(state):\n",
        "    neighbors = []\n",
        "    x, y = find_blank(state)\n",
        "    directions = [(-1,0), (1,0), (0,-1), (0,1)]\n",
        "    for dx, dy in directions:\n",
        "        nx, ny = x + dx, y + dy\n",
        "        if 0 <= nx < 3 and 0 <= ny <3:\n",
        "            new_state = copy.deepcopy(state)\n",
        "            new_state[x][y], new_state[nx][ny] = new_state[nx][ny], new_state[x][y]\n",
        "            neighbors.append(new_state)\n",
        "    return neighbors\n",
        "\n",
        "def a_star_misplaced(initial_state):\n",
        "    open_list = []\n",
        "    heapq.heappush(open_list, (heuristic_misplaced(initial_state), 0, initial_state, []))\n",
        "    visited = set()\n",
        "\n",
        "    while open_list:\n",
        "        heuristic, g, current_state, path = heapq.heappop(open_list)\n",
        "        state_id = str(current_state)\n",
        "        if state_id in visited:\n",
        "            continue\n",
        "        visited.add(state_id)\n",
        "\n",
        "        if is_goal(current_state):\n",
        "            return path + [current_state]\n",
        "\n",
        "        for neighbor in get_neighbors(current_state):\n",
        "            heapq.heappush(open_list, (heuristic_misplaced(neighbor) + g + 1, g + 1, neighbor, path + [current_state]))\n",
        "    return None\n",
        "\n",
        "initial_state = [[2, 8, 3],\n",
        "                 [1, 6, 4],\n",
        "                 [7, 0, 5]]\n",
        "\n",
        "solution = a_star_misplaced(initial_state)\n",
        "\n",
        "print(\"\\nSolution Steps:\\n\")\n",
        "for step in solution:\n",
        "    for row in step:\n",
        "        print(row)\n",
        "    print()\n"
      ]
    }
  ]
}