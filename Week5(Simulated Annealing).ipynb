{
  "nbformat": 4,
  "nbformat_minor": 0,
  "metadata": {
    "colab": {
      "provenance": [],
      "authorship_tag": "ABX9TyMwYi8YJiMlIRe7RHY9IgYM",
      "include_colab_link": true
    },
    "kernelspec": {
      "name": "python3",
      "display_name": "Python 3"
    },
    "language_info": {
      "name": "python"
    }
  },
  "cells": [
    {
      "cell_type": "markdown",
      "metadata": {
        "id": "view-in-github",
        "colab_type": "text"
      },
      "source": [
        "<a href=\"https://colab.research.google.com/github/Shashank-Karanam/AI-LaB/blob/main/Week5(Simulated%20Annealing).ipynb\" target=\"_parent\"><img src=\"https://colab.research.google.com/assets/colab-badge.svg\" alt=\"Open In Colab\"/></a>"
      ]
    },
    {
      "cell_type": "code",
      "execution_count": 4,
      "metadata": {
        "colab": {
          "base_uri": "https://localhost:8080/"
        },
        "id": "hVmmn-gf5unY",
        "outputId": "f6ab96f3-4dea-4c91-8997-d6aa71c2b31c"
      },
      "outputs": [
        {
          "output_type": "stream",
          "name": "stdout",
          "text": [
            "Name: Shashank Ravindra\n",
            "USN : 1BM23CS312\n",
            "\n",
            "Simulated Annealing for 8-Queens Problem\n",
            "Final State (row positions per column): [4, 6, 1, 5, 2, 0, 7, 3]\n",
            "Final Cost (0 means solved): 0\n",
            "✅ Solution Found: Queens are safe!\n"
          ]
        }
      ],
      "source": [
        "\n",
        "import random\n",
        "import math\n",
        "\n",
        "\n",
        "def calculate_cost(state):\n",
        "    cost = 0\n",
        "    n = len(state)\n",
        "    for i in range(n):\n",
        "        for j in range(i+1, n):\n",
        "            if state[i] == state[j]:\n",
        "                cost += 1\n",
        "            if abs(state[i] - state[j]) == abs(i - j):\n",
        "                cost += 1\n",
        "    return cost\n",
        "\n",
        "\n",
        "def random_state(n):\n",
        "    return [random.randint(0, n-1) for _ in range(n)]\n",
        "\n",
        "\n",
        "def get_neighbor(state):\n",
        "    n = len(state)\n",
        "    neighbor = state[:]\n",
        "    col = random.randint(0, n-1)\n",
        "    row = random.randint(0, n-1)\n",
        "    neighbor[col] = row\n",
        "    return neighbor\n",
        "\n",
        "\n",
        "def simulated_annealing(n, max_steps=100000, start_temp=100, cooling_rate=0.99):\n",
        "    current = random_state(n)\n",
        "    current_cost = calculate_cost(current)\n",
        "    T = start_temp\n",
        "\n",
        "    for step in range(max_steps):\n",
        "        if current_cost == 0:\n",
        "            break\n",
        "        neighbor = get_neighbor(current)\n",
        "        neighbor_cost = calculate_cost(neighbor)\n",
        "        delta = neighbor_cost - current_cost\n",
        "\n",
        "        if delta < 0 or random.uniform(0, 1) < math.exp(-delta / T):\n",
        "            current, current_cost = neighbor, neighbor_cost\n",
        "\n",
        "        T = T * cooling_rate\n",
        "        if T < 1e-5:\n",
        "            break\n",
        "\n",
        "    return current, current_cost\n",
        "\n",
        "\n",
        "solution, cost = simulated_annealing(8)\n",
        "\n",
        "print(\"Name: Shashank Ravindra\")\n",
        "print(\"USN : 1BM23CS312\")\n",
        "print(\"\\nSimulated Annealing for 8-Queens Problem\")\n",
        "print(\"Final State (row positions per column):\", solution)\n",
        "print(\"Final Cost (0 means solved):\", cost)\n",
        "if cost == 0:\n",
        "    print(\"Solution Found: Queens are safe!\")\n",
        "else:\n",
        "    print(\"Stuck in Local Optimum (Not a solution)\")\n"
      ]
    }
  ]
}