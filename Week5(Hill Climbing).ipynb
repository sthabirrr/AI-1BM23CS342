{
  "nbformat": 4,
  "nbformat_minor": 0,
  "metadata": {
    "colab": {
      "provenance": [],
      "authorship_tag": "ABX9TyOzW/fsO/NfGztcwImuKCNl",
      "include_colab_link": true
    },
    "kernelspec": {
      "name": "python3",
      "display_name": "Python 3"
    },
    "language_info": {
      "name": "python"
    }
  },
  "cells": [
    {
      "cell_type": "markdown",
      "metadata": {
        "id": "view-in-github",
        "colab_type": "text"
      },
      "source": [
        "<a href=\"https://colab.research.google.com/github/Shashank-Karanam/AI-LaB/blob/main/Week5(Hill%20Climbing).ipynb\" target=\"_parent\"><img src=\"https://colab.research.google.com/assets/colab-badge.svg\" alt=\"Open In Colab\"/></a>"
      ]
    },
    {
      "cell_type": "code",
      "execution_count": 3,
      "metadata": {
        "colab": {
          "base_uri": "https://localhost:8080/"
        },
        "id": "hVmmn-gf5unY",
        "outputId": "cbddcf65-444a-4300-9351-ddb27de0a121"
      },
      "outputs": [
        {
          "output_type": "stream",
          "name": "stdout",
          "text": [
            "Name: Shashank Ravindra\n",
            "USN : 1BM23CS312\n",
            "\n",
            "Hill Climbing for 4-Queens Problem\n",
            "Final State (row positions per column): [1, 3, 2, 0]\n",
            "Final Cost (0 means solved): 1\n",
            " Stuck in Local Optimum (Not a solution)\n"
          ]
        }
      ],
      "source": [
        "\n",
        "\n",
        "import random\n",
        "\n",
        "\n",
        "def calculate_cost(state):\n",
        "    cost = 0\n",
        "    n = len(state)\n",
        "    for i in range(n):\n",
        "        for j in range(i+1, n):\n",
        "            if state[i] == state[j]:\n",
        "                cost += 1\n",
        "            if abs(state[i] - state[j]) == abs(i - j):\n",
        "                cost += 1\n",
        "    return cost\n",
        "\n",
        "def random_state(n):\n",
        "    return [random.randint(0, n-1) for _ in range(n)]\n",
        "\n",
        "\n",
        "def get_best_neighbor(state):\n",
        "    n = len(state)\n",
        "    best_state = state[:]\n",
        "    best_cost = calculate_cost(state)\n",
        "\n",
        "    for col in range(n):\n",
        "        for row in range(n):\n",
        "            if state[col] != row:\n",
        "                new_state = state[:]\n",
        "                new_state[col] = row\n",
        "                new_cost = calculate_cost(new_state)\n",
        "                if new_cost < best_cost:\n",
        "                    best_cost = new_cost\n",
        "                    best_state = new_state\n",
        "    return best_state, best_cost\n",
        "\n",
        "\n",
        "def hill_climbing(n):\n",
        "    current = random_state(n)\n",
        "    current_cost = calculate_cost(current)\n",
        "\n",
        "    while True:\n",
        "        neighbor, neighbor_cost = get_best_neighbor(current)\n",
        "\n",
        "        if neighbor_cost < current_cost:\n",
        "            current, current_cost = neighbor, neighbor_cost\n",
        "        else:\n",
        "            break\n",
        "\n",
        "    return current, current_cost\n",
        "\n",
        "solution, cost = hill_climbing(4)\n",
        "\n",
        "print(\"Name: Shashank Ravindra\")\n",
        "print(\"USN : 1BM23CS312\")\n",
        "print(\"\\nHill Climbing for 4-Queens Problem\")\n",
        "print(\"Final State (row positions per column):\", solution)\n",
        "print(\"Final Cost (0 means solved):\", cost)\n",
        "if cost == 0:\n",
        "    print(\"Solution Found: Queens are safe!\")\n",
        "else:\n",
        "    print(\" Stuck in Local Optimum (Not a solution)\")\n"
      ]
    }
  ]
}