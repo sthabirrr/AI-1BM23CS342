{
  "nbformat": 4,
  "nbformat_minor": 0,
  "metadata": {
    "colab": {
      "provenance": [],
      "authorship_tag": "ABX9TyMKTMpdVk7i9uGF1qC58d6Y",
      "include_colab_link": true
    },
    "kernelspec": {
      "name": "python3",
      "display_name": "Python 3"
    },
    "language_info": {
      "name": "python"
    }
  },
  "cells": [
    {
      "cell_type": "markdown",
      "metadata": {
        "id": "view-in-github",
        "colab_type": "text"
      },
      "source": [
        "<a href=\"https://colab.research.google.com/github/Shashank-Karanam/AI-LaB/blob/main/Week6(Propositional%20Logic).ipynb\" target=\"_parent\"><img src=\"https://colab.research.google.com/assets/colab-badge.svg\" alt=\"Open In Colab\"/></a>"
      ]
    },
    {
      "cell_type": "code",
      "execution_count": 3,
      "metadata": {
        "colab": {
          "base_uri": "https://localhost:8080/"
        },
        "id": "hVmmn-gf5unY",
        "outputId": "e686a8ac-6813-4a6c-b793-9109395362df"
      },
      "outputs": [
        {
          "output_type": "stream",
          "name": "stdout",
          "text": [
            "\n",
            "Truth Table Evaluation:\n",
            "--------------------------------------------------\n",
            "Model                KB         Query     \n",
            "--------------------------------------------------\n",
            "{'P': True, 'Q': True} True       True      \n",
            "{'P': True, 'Q': False} False      False     \n",
            "{'P': False, 'Q': True} False      True      \n",
            "{'P': False, 'Q': False} False      False     \n",
            "--------------------------------------------------\n",
            "\n",
            "Name: Shashank Ravindra\n",
            "USN : 1BM23CS312\n",
            "\n",
            "Knowledge Base: (P → Q) and (P)\n",
            "Query: Q\n",
            "Does KB entail Query? : YES \n"
          ]
        }
      ],
      "source": [
        "\n",
        "\n",
        "import itertools\n",
        "\n",
        "def pl_true(expr, model):\n",
        "    if isinstance(expr, str):\n",
        "        return model[expr]\n",
        "    elif isinstance(expr, tuple):\n",
        "        op = expr[0]\n",
        "        if op == \"not\":\n",
        "            return not pl_true(expr[1], model)\n",
        "        elif op == \"and\":\n",
        "            return pl_true(expr[1], model) and pl_true(expr[2], model)\n",
        "        elif op == \"or\":\n",
        "            return pl_true(expr[1], model) or pl_true(expr[2], model)\n",
        "        elif op == \"implies\":\n",
        "            return (not pl_true(expr[1], model)) or pl_true(expr[2], model)\n",
        "    return False\n",
        "\n",
        "def get_symbols(expr):\n",
        "    if isinstance(expr, str):\n",
        "        return {expr}\n",
        "    elif isinstance(expr, tuple):\n",
        "        return get_symbols(expr[1]) | (get_symbols(expr[2]) if len(expr) > 2 else set())\n",
        "    return set()\n",
        "\n",
        "def tt_entails_print(KB, query):\n",
        "    symbols = list(get_symbols(KB) | get_symbols(query))\n",
        "    all_models = list(itertools.product([True, False], repeat=len(symbols)))\n",
        "\n",
        "    entailment = True\n",
        "    print(\"\\nTruth Table Evaluation:\")\n",
        "    print(\"-\" * 50)\n",
        "    print(\"Model\".ljust(20), \"KB\".ljust(10), \"Query\".ljust(10))\n",
        "    print(\"-\" * 50)\n",
        "\n",
        "    for values in all_models:\n",
        "        model = dict(zip(symbols, values))\n",
        "        kb_val = pl_true(KB, model)\n",
        "        q_val = pl_true(query, model)\n",
        "\n",
        "        print(str(model).ljust(20), str(kb_val).ljust(10), str(q_val).ljust(10))\n",
        "\n",
        "        if kb_val and not q_val:\n",
        "            entailment = False\n",
        "\n",
        "    print(\"-\" * 50)\n",
        "    return entailment\n",
        "\n",
        "\n",
        "KB = (\"and\", (\"implies\", \"P\", \"Q\"), \"P\")\n",
        "query = \"Q\"\n",
        "\n",
        "result = tt_entails_print(KB, query)\n",
        "\n",
        "print(\"\\nName: Sthavir K\")\n",
        "print(\"USN : 1BM23CS342\")\n",
        "print(\"\\nKnowledge Base: (P → Q) and (P)\")\n",
        "print(\"Query: Q\")\n",
        "print(\"Does KB entail Query? :\", \"YES \" if result else \"NO \")\n"
      ]
    }
  ]
}
